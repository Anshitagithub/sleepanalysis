{
 "cells": [
  {
   "cell_type": "markdown",
   "metadata": {},
   "source": [
    "# Dataset Overview:"
   ]
  },
  {
   "cell_type": "markdown",
   "metadata": {},
   "source": [
    "The sleep Health and Lifestyle Dataset comprises 400 rows and 13 columns,\n",
    "covering a wide range of variables related to sleep and daily habits. \n",
    "It includes details such as gender, age, occupation, sleep duration, quality of sleep, \n",
    "physical activity level, stress levels, BMI category, blood pressure, heart rate, \n",
    "daily steps, and the presence or absence of sleep disorders."
   ]
  },
  {
   "cell_type": "markdown",
   "metadata": {},
   "source": [
    "# Key Features of the Dataset:"
   ]
  },
  {
   "cell_type": "markdown",
   "metadata": {},
   "source": [
    "Comprehensive Sleep Metrics:  Explore sleep duration, quality, and factors influencing sleep patterns.\n",
    "Lifestyle Factors:            Analyze physical activity levels, stress levels, and BMI categories.\n",
    "Cardiovascular Health:        Examine blood pressure and heart rate measurements.\n",
    "Sleep Disorder Analysis:      Identify the occurrence of sleep disorders such as Insomnia and Sleep Apnea."
   ]
  },
  {
   "cell_type": "markdown",
   "metadata": {},
   "source": [
    "# Dataset Columns Information:"
   ]
  },
  {
   "cell_type": "markdown",
   "metadata": {},
   "source": [
    "Person ID:                             An identifier for each individual.\n",
    "Gender:                                The gender of the person (Male/Female).\n",
    "Age:                                   The age of the person in years.\n",
    "Occupation:                            The occupation or profession of the person.\n",
    "Sleep Duration(hours):                 The number of hours the person sleeps per day.\n",
    "Quality of Sleep (scale: 1-10):        A subjective rating of the quality of sleep, ranging from 1 to 10.\n",
    "Physical Activity Level (minutes/day): The number of minutes the person engages in physical activity daily.\n",
    "Stress Level (scale: 1-10):            A subjective rating of the stress level experienced by the person, \n",
    "                                       ranging from 1 to 10.\n",
    "BMI Category:                          The BMI category of the person (e.g., Obese, Normal, Overweight).\n",
    "Blood Pressure (systolic/diastolic):   The blood pressure measurement of the person, indicated as systolic \n",
    "                                       pressure over diastolic pressure.\n",
    "Heart Rate (bpm):                    The resting heart rate of the person in beats per minute.\n",
    "Daily Steps:                         The number of steps the person takes per day.\n",
    "Sleep Disorder:                      The presence or absence of a sleep disorder in the person (Insomnia, Sleep Apnea).\n",
    "    \n",
    "    \n",
    "Insomnia:         The individual experiences difficulty falling asleep or staying asleep, \n",
    "                  leading to inadequate or poor-quality sleep.\n",
    "Sleep Apnea:      The individual suffers from pauses in breathing during sleep, resulting in disrupted \n",
    "                   sleep patterns and potential health risks."
   ]
  },
  {
   "cell_type": "code",
   "execution_count": 1,
   "metadata": {},
   "outputs": [
    {
     "data": {
      "text/plain": [
       "Person ID                    int64\n",
       "Sex                         object\n",
       "Age                          int64\n",
       "Occupation                  object\n",
       "Sleep Duration             float64\n",
       "Quality of Sleep             int64\n",
       "Physical Activity Level      int64\n",
       "Stress Level                 int64\n",
       "BMI Category                object\n",
       "Blood Pressure              object\n",
       "Heart Rate                   int64\n",
       "Daily Steps                  int64\n",
       "Sleep Disorder              object\n",
       "dtype: object"
      ]
     },
     "execution_count": 1,
     "metadata": {},
     "output_type": "execute_result"
    }
   ],
   "source": [
    "import pandas as pd\n",
    "data=pd.read_csv(r\"C:\\Users\\a\\Downloads\\inproject\\Sleep_health_and_lifestyle_dataset.csv\")\n",
    "mRatio=data[(data['Sex']=='M')].groupby('Age').size()\n",
    "data.dtypes"
   ]
  },
  {
   "cell_type": "code",
   "execution_count": 2,
   "metadata": {},
   "outputs": [],
   "source": [
    "import tkinter as tk\n",
    "import numpy as np\n",
    "import pandas as pd\n",
    "import matplotlib.pyplot as plt\n",
    "#import seaborn as sns\n",
    "from matplotlib.backends.backend_tkagg import FigureCanvasTkAgg\n",
    "data=pd.read_csv(r\"C:\\Users\\a\\Downloads\\inproject\\Sleep_health_and_lifestyle_dataset.csv\")\n",
    "data['Stress Level'].fillna(0,inplace=True)\n",
    "data['Stress Level'].replace(0,\"None\",inplace=True)\n",
    "data.update(data[['Age','Sleep Duration','Quality of Sleep']].fillna(0))\n",
    "\n",
    "\n",
    "\n",
    "def world():\n",
    "    sexRatio=data.groupby('Sex').size()\n",
    "    root=tk.Tk() \n",
    "    labels = 'Female', 'Male'\n",
    "    sizes = sexRatio\n",
    "    explode = (0, 0.1)\n",
    "    fig1, ax1 = plt.subplots()\n",
    "    ax1.pie(sizes, explode=explode, labels=labels, autopct='%1.1f%%',\n",
    "            shadow=True, startangle=90)\n",
    "    ax1.axis('equal')  # Equal aspect ratio ensures that pie is drawn as a circle.\n",
    "    bar1 = FigureCanvasTkAgg(fig1, root)\n",
    "    bar1.get_tk_widget().pack(side=tk.LEFT, fill=tk.BOTH)\n",
    "    figure1 = plt.Figure(figsize=(16,16), dpi=100)\n",
    "    ax1.set_title('Male Vs Female ratio.')\n",
    "\n",
    "    \n",
    "    \n",
    "    root.mainloop()\n"
   ]
  },
  {
   "cell_type": "code",
   "execution_count": 3,
   "metadata": {},
   "outputs": [],
   "source": [
    "#The Figure class represents the drawing area on which matplotlib charts will\n",
    "#be drawn. \n",
    "#The FigureCanvasTkAgg class is an interface between the Fig and Tkinter Canvas .\n",
    "#get_tk_widget() returns the Tk widget used to implement FigureCanvasTkAgg.\n",
    "\n",
    "def get():\n",
    "    mRatio=data.loc[(data['Sex']=='Male')].groupby(data['Age']).size()\n",
    "    root= tk.Tk() \n",
    "    mRatio.head()\n",
    "    figure1 = plt.Figure(figsize=(16,12), dpi=100)\n",
    "    ax1 = figure1.add_subplot(111)\n",
    "    bar1 = FigureCanvasTkAgg(figure1, root)\n",
    "    bar1.get_tk_widget().pack(side=tk.LEFT, fill=tk.BOTH)\n",
    "    mRatio.plot(kind='bar', ax=ax1)\n",
    "    ax1.set_title('Male Doctors.')\n",
    "    root.mainloop()"
   ]
  },
  {
   "cell_type": "code",
   "execution_count": 4,
   "metadata": {},
   "outputs": [],
   "source": [
    "def fem():\n",
    "    find=data.loc[(data['Sex']=='Female')].groupby(data['Age']).size()\n",
    "    root= tk.Tk() \n",
    "\n",
    "    figure1 = plt.Figure(figsize=(16,8), dpi=100)\n",
    "    ax1 = figure1.add_subplot(111)\n",
    "    bar1 = FigureCanvasTkAgg(figure1, root)\n",
    "    bar1.get_tk_widget().pack(side=tk.LEFT, fill=tk.BOTH)\n",
    "    find.plot(kind='bar', ax=ax1)\n",
    "    ax1.set_title('Age-wise Nurses.')\n",
    "    root.mainloop()"
   ]
  },
  {
   "cell_type": "code",
   "execution_count": 5,
   "metadata": {},
   "outputs": [],
   "source": [
    "def teach():\n",
    "    g=data.loc[(data['Occupation']=='Manager')].groupby('Physical Activity Level').size()\n",
    "    root= tk.Tk() \n",
    "\n",
    "    figure1 = plt.Figure(figsize=(16,8), dpi=100)\n",
    "    ax1 = figure1.add_subplot(111)\n",
    "    bar1 = FigureCanvasTkAgg(figure1, root)\n",
    "    bar1.get_tk_widget().pack(side=tk.LEFT, fill=tk.BOTH)\n",
    "    g.plot(kind='bar', ax=ax1)\n",
    "    ax1.set_title('Physical Activity Level Of Teachers.')\n",
    "    root.mainloop()\n"
   ]
  },
  {
   "cell_type": "code",
   "execution_count": 6,
   "metadata": {},
   "outputs": [],
   "source": [
    "def eng():\n",
    "    a=data.loc[(data['BMI Category'] == 'Normal') & (data['Occupation'] == 'Engineer')].groupby('Age').size()\n",
    "    root= tk.Tk() \n",
    "    \n",
    "    figure1 = plt.Figure(figsize=(16,8), dpi=100)\n",
    "    ax1 = figure1.add_subplot(111)\n",
    "    bar1 = FigureCanvasTkAgg(figure1, root)\n",
    "    bar1.get_tk_widget().pack(side=tk.LEFT, fill=tk.BOTH)\n",
    "    a.plot(kind='bar', ax=ax1)\n",
    "    ax1.set_title('Engineers with normal weight.')\n",
    "    root.mainloop()\n",
    "\n",
    "    "
   ]
  },
  {
   "cell_type": "code",
   "execution_count": 7,
   "metadata": {},
   "outputs": [],
   "source": [
    "def fsleep():\n",
    "    s=data.loc[(data['Sleep Disorder']=='Sleep Apnea')&(data['Occupation']=='Scientist')].groupby('Age').size()\n",
    "    root= tk.Tk() \n",
    "\n",
    "    figure1 = plt.Figure(figsize=(6,5), dpi=100)\n",
    "    ax1 = figure1.add_subplot(111)\n",
    "    bar1 = FigureCanvasTkAgg(figure1, root)\n",
    "    bar1.get_tk_widget().pack(side=tk.LEFT, fill=tk.BOTH)\n",
    "    s.plot(kind='bar', ax=ax1)\n",
    "    ax1.set_title('Scientists(Sleep Apnea).')\n",
    "    root.mainloop()"
   ]
  },
  {
   "cell_type": "code",
   "execution_count": 8,
   "metadata": {},
   "outputs": [],
   "source": [
    "def minsom():\n",
    "    p=data.loc[(data['Sleep Disorder']=='Insomnia')&(data['Occupation']=='Sales Representative')].groupby('Age').size()\n",
    "    root= tk.Tk() \n",
    "\n",
    "    figure1 = plt.Figure(figsize=(16,8), dpi=100)\n",
    "    ax1 = figure1.add_subplot(111)\n",
    "    bar1 = FigureCanvasTkAgg(figure1, root)\n",
    "    bar1.get_tk_widget().pack(side=tk.LEFT, fill=tk.BOTH)\n",
    "    p.plot(kind='bar', ax=ax1)\n",
    "    ax1.set_title('Sales Representative(Insomnia).')\n",
    "    root.mainloop()"
   ]
  },
  {
   "cell_type": "code",
   "execution_count": 9,
   "metadata": {},
   "outputs": [],
   "source": [
    "def ycat():    \n",
    "    l=data.loc[(data['BMI Category'] == 'Normal') & (data['Occupation'] == 'Lawyer')].groupby('Age').size()\n",
    "    root= tk.Tk() \n",
    "\n",
    "    figure1 = plt.Figure(figsize=(16,5), dpi=100)\n",
    "    ax1 = figure1.add_subplot(111)\n",
    "    bar1 = FigureCanvasTkAgg(figure1, root)\n",
    "    bar1.get_tk_widget().pack(side=tk.LEFT, fill=tk.BOTH)\n",
    "    l.plot(kind='bar', ax=ax1)\n",
    "    ax1.set_title('Lawyers with normal weight.')\n",
    "    root.mainloop()"
   ]
  },
  {
   "cell_type": "code",
   "execution_count": 10,
   "metadata": {},
   "outputs": [],
   "source": [
    "def categ():\n",
    "    m=data.loc[(data['BMI Category'] == 'Overweight') & (data['Occupation'] == 'Scientist')].groupby('Age').size()\n",
    "    root= tk.Tk() \n",
    "\n",
    "    figure1 = plt.Figure(figsize=(6,5), dpi=100)\n",
    "    ax1 = figure1.add_subplot(111)\n",
    "    bar1 = FigureCanvasTkAgg(figure1, root)\n",
    "    bar1.get_tk_widget().pack(side=tk.LEFT, fill=tk.BOTH)\n",
    "    m.plot(kind='bar', ax=ax1)\n",
    "    ax1.set_title('Scientist with Overweight.')\n",
    "    root.mainloop()"
   ]
  },
  {
   "cell_type": "code",
   "execution_count": 11,
   "metadata": {},
   "outputs": [],
   "source": [
    "def mAng():\n",
    "    x=data.loc[(data['Occupation']=='Manager')].groupby('Physical Activity Level').size()\n",
    "    \n",
    "    root= tk.Tk() \n",
    "\n",
    "    figure1 = plt.Figure(figsize=(16,8), dpi=100)\n",
    "    ax1 = figure1.add_subplot(111)\n",
    "    bar1 = FigureCanvasTkAgg(figure1, root)\n",
    "    bar1.get_tk_widget().pack(side=tk.LEFT, fill=tk.BOTH)\n",
    "    x.plot(kind='bar', ax=ax1)\n",
    "    ax1.set_title('Physical Activity Level Of manager.')\n",
    "    root.mainloop()"
   ]
  },
  {
   "cell_type": "code",
   "execution_count": 12,
   "metadata": {},
   "outputs": [],
   "source": [
    "import tkinter\n",
    "from tkinter import *\n",
    "from PIL import Image, ImageTk\n",
    "import time\n",
    "import datetime\n",
    "\n",
    "root = Tk()\n",
    "\n",
    "width=root.winfo_screenwidth()\n",
    "height=root.winfo_screenheight()\n",
    "\n",
    "#title and background of the frame\n",
    "root.geometry(\"1400x700\")\n",
    "root.title('Sleep Health Analysis')\n",
    "root.configure(background='#e39a9c')\n",
    "\n",
    "tops=Frame(root,width=1400)\n",
    "tops.pack(side = TOP,)\n",
    "tops.configure(background='#e39a9c')\n",
    "frame =Frame(root,width=800,height=700)\n",
    "frame.configure(background='#e39a9c')\n",
    "frame.pack()\n",
    "\n",
    "\n",
    "#adding localtime\n",
    "localtime=time.asctime(time.localtime(time.time()))\n",
    "\n",
    "\n",
    "\n",
    "# adding menu bar\n",
    "menu1=Menu(root)\n",
    "root.config(menu=menu1)\n",
    "subMenu1=Menu(menu1)\n",
    "\n",
    "menu1.add_cascade(label=\"File\",menu=subMenu1)\n",
    "subMenu1.add_command(label=\"Exit\",command=root.destroy)\n",
    "menu1.add_cascade(label=\"About\")\n",
    "\n",
    "\n",
    "labelinfo = Label(tops, font=('Algerian', 35, 'bold'), text=\" Sleep Health Analysis\",bd=14, bg=\"white\", relief=\"solid\", fg=\"#6F2232\" )             \n",
    "labelinfo.grid(row = 0, column = 0)\n",
    "#Time Label\n",
    "labelinfo = Label(tops, font=('arial', 14, 'bold'),text = localtime, fg = \"black\",bd = 10)               \n",
    "labelinfo.grid(row = 5, column = 0)\n",
    "            \n",
    "    \n",
    "    \n",
    "button1= Button(frame,font=('arial', 20, 'bold'),text=\"Male vs Female ratio\",                                                    command=world,  bd = 10,       fg = \"white\",        bg=\"#4E4E50\",anchor='w')\n",
    "button2= Button(frame,font=('arial', 20, 'bold'),text=\"Age-wise Male Doctors \",                                                  command=get,    bd = 10,         fg = \"white\",   bg=\"#6F2232\", anchor='w' )\n",
    "button3= Button(frame,font=('arial', 20, 'bold'),text=\"Age-wise Nurses\",                                                         command=fem,   bd = 10,         fg = \"white\",          bg=\"#950740\",anchor='w')\n",
    "button4= Button(frame,font=('arial', 20, 'bold'),text=\"Physical Activity Level Of Teachers  \",                                   command=teach,  bd = 10,       fg = \"white\",     bg=\"#C3073F\",anchor='w')\n",
    "button5= Button(frame,font=('arial', 20, 'bold'),text=\"Engineers with normal weight\",                                            command=eng,    bd = 10,         fg = \"white\",   bg=\"#950740\",anchor='w')\n",
    "button6= Button(frame,font=('arial', 20, 'bold'),text=\"Scientists Vs Age(Sleep Apnea) \",                                         command=fsleep,  bd =10,      fg = \"white\",     bg=\"#C3073F\",anchor='w')\n",
    "button7= Button(frame,font=('arial', 20, 'bold'),text=\"Sales Representative Vs Age (Insomnia)\",                                  command=minsom,  bd = 10,      fg = \"white\",   bg=\"#6F2232\",anchor='w')\n",
    "button8= Button(frame,font=('arial', 20, 'bold'),text=\"Lawyers with normal weight \",                                             command=ycat,    bd = 10,         fg = \"white\",    bg=\"#4E4E50\",anchor='w')\n",
    "button9= Button(frame,font=('arial', 20, 'bold'),text=\"Scientist with Overweight\",                                               command=categ,   bd = 10,        fg = \"white\",    bg=\"#6F2232\",anchor='w')\n",
    "button10=Button(frame,font=('arial', 20, 'bold'),text=\"Physical Activity Level Of manager \",                                     command=mAng,   bd = 10,         fg = \"white\" ,bg=\"#950740\",anchor='w')\n",
    "\n",
    "\n",
    "\n",
    "button1.grid(row=0,column=1)\n",
    "button2.grid(row=0,column=2)\n",
    "button3.grid(row=3,column=1)\n",
    "button4.grid(row=3,column=2)\n",
    "button5.grid(row=5,column=1)\n",
    "button6.grid(row=5,column=2)\n",
    "button7.grid(row=7,column=1)\n",
    "button8.grid(row=7,column=2)\n",
    "button9.grid(row=9,column=1)\n",
    "button10.grid(row=9,column=2)\n",
    "\n",
    "\n",
    "\n",
    "\n",
    "#importing image at the left bottom\n",
    "photo=PhotoImage(file =r\"C:\\Users\\a\\Downloads\\inproject\\ico.png\")\n",
    "labelphoto=Label(image=photo)\n",
    "frame=Frame(root,width=800,height=330,bg=\"white\")\n",
    "frame.place(x=1800,y=180)\n",
    "\n",
    "labelphoto.pack(side=LEFT,padx=330)\n",
    "\n",
    "\n",
    "\n",
    "\n",
    "\n",
    "\n",
    "\n",
    "lst=['ANSHITA GUPTA','B.Tech. CSE 2021-2025','PUNJABI UNIVERSITY PATIALA','anshitag773@gmail.com']\n",
    "l1=Label(root,text='ANSHITA GUPTA',font=('arial', 8),fg='black',bg='#e39a9c')\n",
    "l1.place(x=1160,y=574)\n",
    "#l1.pack(side=RIGHT,padx=15)\n",
    "l2=Label(root,text='B.Tech. CSE 2021-2025',font=('arial', 8),fg='black',bg='#e39a9c')\n",
    "l2.place(x=1160,y=586)\n",
    "#l2.pack(side=RIGHT,padx=15)\n",
    "l3=Label(root,text='PUNJABI UNIVERSITY PATIALA',font=('arial', 8),fg='black',bg='#e39a9c')\n",
    "l3.place(x=1160,y=598)   \n",
    "l4=Label(root,text='anshitag773@gmail.com',font=('arial', 8),fg='black',bg='#e39a9c')\n",
    "l4.place(x=1160,y=610)  \n",
    "\n",
    "\n",
    "\n",
    "root.mainloop()"
   ]
  },
  {
   "cell_type": "code",
   "execution_count": null,
   "metadata": {},
   "outputs": [],
   "source": []
  },
  {
   "cell_type": "code",
   "execution_count": null,
   "metadata": {},
   "outputs": [],
   "source": []
  }
 ],
 "metadata": {
  "kernelspec": {
   "display_name": "Python 3",
   "language": "python",
   "name": "python3"
  },
  "language_info": {
   "codemirror_mode": {
    "name": "ipython",
    "version": 3
   },
   "file_extension": ".py",
   "mimetype": "text/x-python",
   "name": "python",
   "nbconvert_exporter": "python",
   "pygments_lexer": "ipython3",
   "version": "3.8.8"
  }
 },
 "nbformat": 4,
 "nbformat_minor": 2
}
